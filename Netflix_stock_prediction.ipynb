{
 "cells": [
  {
   "cell_type": "markdown",
   "id": "a8292467-0301-4639-a665-e80c00aec78b",
   "metadata": {},
   "source": [
    "### Stock Prediction LSTM"
   ]
  },
  {
   "cell_type": "code",
   "execution_count": 1,
   "id": "86d9e6ca-b725-4dff-9aee-c97a80d66e1a",
   "metadata": {},
   "outputs": [],
   "source": [
    "import numpy as np\n",
    "import pandas as pd\n",
    "import matplotlib.pyplot as plt\n",
    "import mplfinance as mpf"
   ]
  },
  {
   "cell_type": "code",
   "execution_count": 2,
   "id": "9d3ef5b6-8c71-4368-8aed-1a58e7874d91",
   "metadata": {},
   "outputs": [],
   "source": [
    "### Here we have netflix data which, I got from kaggel.com "
   ]
  },
  {
   "cell_type": "code",
   "execution_count": 3,
   "id": "eadf3394-7a68-44ef-b3d6-978b4c98959d",
   "metadata": {},
   "outputs": [],
   "source": [
    "df = pd.read_csv(\"NFLX.csv\")"
   ]
  },
  {
   "cell_type": "code",
   "execution_count": 4,
   "id": "2bae6032-dd95-4e03-a0de-894682c07507",
   "metadata": {},
   "outputs": [
    {
     "data": {
      "text/html": [
       "<div>\n",
       "<style scoped>\n",
       "    .dataframe tbody tr th:only-of-type {\n",
       "        vertical-align: middle;\n",
       "    }\n",
       "\n",
       "    .dataframe tbody tr th {\n",
       "        vertical-align: top;\n",
       "    }\n",
       "\n",
       "    .dataframe thead th {\n",
       "        text-align: right;\n",
       "    }\n",
       "</style>\n",
       "<table border=\"1\" class=\"dataframe\">\n",
       "  <thead>\n",
       "    <tr style=\"text-align: right;\">\n",
       "      <th></th>\n",
       "      <th>Date</th>\n",
       "      <th>Year</th>\n",
       "      <th>Open</th>\n",
       "      <th>High</th>\n",
       "      <th>Low</th>\n",
       "      <th>Close</th>\n",
       "      <th>Adj Close</th>\n",
       "      <th>Volume</th>\n",
       "    </tr>\n",
       "  </thead>\n",
       "  <tbody>\n",
       "    <tr>\n",
       "      <th>0</th>\n",
       "      <td>2/5/2018</td>\n",
       "      <td>2018</td>\n",
       "      <td>262.000000</td>\n",
       "      <td>267.899994</td>\n",
       "      <td>250.029999</td>\n",
       "      <td>254.259995</td>\n",
       "      <td>254.259995</td>\n",
       "      <td>11896100</td>\n",
       "    </tr>\n",
       "    <tr>\n",
       "      <th>1</th>\n",
       "      <td>2/6/2018</td>\n",
       "      <td>2018</td>\n",
       "      <td>247.699997</td>\n",
       "      <td>266.700012</td>\n",
       "      <td>245.000000</td>\n",
       "      <td>265.720001</td>\n",
       "      <td>265.720001</td>\n",
       "      <td>12595800</td>\n",
       "    </tr>\n",
       "    <tr>\n",
       "      <th>2</th>\n",
       "      <td>2/7/2018</td>\n",
       "      <td>2018</td>\n",
       "      <td>266.579987</td>\n",
       "      <td>272.450012</td>\n",
       "      <td>264.329987</td>\n",
       "      <td>264.559998</td>\n",
       "      <td>264.559998</td>\n",
       "      <td>8981500</td>\n",
       "    </tr>\n",
       "    <tr>\n",
       "      <th>3</th>\n",
       "      <td>2/8/2018</td>\n",
       "      <td>2018</td>\n",
       "      <td>267.079987</td>\n",
       "      <td>267.619995</td>\n",
       "      <td>250.000000</td>\n",
       "      <td>250.100006</td>\n",
       "      <td>250.100006</td>\n",
       "      <td>9306700</td>\n",
       "    </tr>\n",
       "    <tr>\n",
       "      <th>4</th>\n",
       "      <td>2/9/2018</td>\n",
       "      <td>2018</td>\n",
       "      <td>253.850006</td>\n",
       "      <td>255.800003</td>\n",
       "      <td>236.110001</td>\n",
       "      <td>249.470001</td>\n",
       "      <td>249.470001</td>\n",
       "      <td>16906900</td>\n",
       "    </tr>\n",
       "    <tr>\n",
       "      <th>...</th>\n",
       "      <td>...</td>\n",
       "      <td>...</td>\n",
       "      <td>...</td>\n",
       "      <td>...</td>\n",
       "      <td>...</td>\n",
       "      <td>...</td>\n",
       "      <td>...</td>\n",
       "      <td>...</td>\n",
       "    </tr>\n",
       "    <tr>\n",
       "      <th>1004</th>\n",
       "      <td>1/31/2022</td>\n",
       "      <td>2022</td>\n",
       "      <td>401.970001</td>\n",
       "      <td>427.700012</td>\n",
       "      <td>398.200012</td>\n",
       "      <td>427.140015</td>\n",
       "      <td>427.140015</td>\n",
       "      <td>20047500</td>\n",
       "    </tr>\n",
       "    <tr>\n",
       "      <th>1005</th>\n",
       "      <td>2/1/2022</td>\n",
       "      <td>2022</td>\n",
       "      <td>432.959991</td>\n",
       "      <td>458.480011</td>\n",
       "      <td>425.540009</td>\n",
       "      <td>457.130005</td>\n",
       "      <td>457.130005</td>\n",
       "      <td>22542300</td>\n",
       "    </tr>\n",
       "    <tr>\n",
       "      <th>1006</th>\n",
       "      <td>2/2/2022</td>\n",
       "      <td>2022</td>\n",
       "      <td>448.250000</td>\n",
       "      <td>451.980011</td>\n",
       "      <td>426.480011</td>\n",
       "      <td>429.480011</td>\n",
       "      <td>429.480011</td>\n",
       "      <td>14346000</td>\n",
       "    </tr>\n",
       "    <tr>\n",
       "      <th>1007</th>\n",
       "      <td>2/3/2022</td>\n",
       "      <td>2022</td>\n",
       "      <td>421.440002</td>\n",
       "      <td>429.260010</td>\n",
       "      <td>404.279999</td>\n",
       "      <td>405.600006</td>\n",
       "      <td>405.600006</td>\n",
       "      <td>9905200</td>\n",
       "    </tr>\n",
       "    <tr>\n",
       "      <th>1008</th>\n",
       "      <td>2/4/2022</td>\n",
       "      <td>2022</td>\n",
       "      <td>407.309998</td>\n",
       "      <td>412.769989</td>\n",
       "      <td>396.640015</td>\n",
       "      <td>410.170013</td>\n",
       "      <td>410.170013</td>\n",
       "      <td>7782400</td>\n",
       "    </tr>\n",
       "  </tbody>\n",
       "</table>\n",
       "<p>1009 rows × 8 columns</p>\n",
       "</div>"
      ],
      "text/plain": [
       "           Date  Year        Open        High         Low       Close  \\\n",
       "0      2/5/2018  2018  262.000000  267.899994  250.029999  254.259995   \n",
       "1      2/6/2018  2018  247.699997  266.700012  245.000000  265.720001   \n",
       "2      2/7/2018  2018  266.579987  272.450012  264.329987  264.559998   \n",
       "3      2/8/2018  2018  267.079987  267.619995  250.000000  250.100006   \n",
       "4      2/9/2018  2018  253.850006  255.800003  236.110001  249.470001   \n",
       "...         ...   ...         ...         ...         ...         ...   \n",
       "1004  1/31/2022  2022  401.970001  427.700012  398.200012  427.140015   \n",
       "1005   2/1/2022  2022  432.959991  458.480011  425.540009  457.130005   \n",
       "1006   2/2/2022  2022  448.250000  451.980011  426.480011  429.480011   \n",
       "1007   2/3/2022  2022  421.440002  429.260010  404.279999  405.600006   \n",
       "1008   2/4/2022  2022  407.309998  412.769989  396.640015  410.170013   \n",
       "\n",
       "       Adj Close    Volume  \n",
       "0     254.259995  11896100  \n",
       "1     265.720001  12595800  \n",
       "2     264.559998   8981500  \n",
       "3     250.100006   9306700  \n",
       "4     249.470001  16906900  \n",
       "...          ...       ...  \n",
       "1004  427.140015  20047500  \n",
       "1005  457.130005  22542300  \n",
       "1006  429.480011  14346000  \n",
       "1007  405.600006   9905200  \n",
       "1008  410.170013   7782400  \n",
       "\n",
       "[1009 rows x 8 columns]"
      ]
     },
     "execution_count": 4,
     "metadata": {},
     "output_type": "execute_result"
    }
   ],
   "source": [
    "df"
   ]
  },
  {
   "cell_type": "code",
   "execution_count": 5,
   "id": "34f1e90d-7b74-4e52-806a-ee68639b8e97",
   "metadata": {},
   "outputs": [
    {
     "data": {
      "text/html": [
       "<div>\n",
       "<style scoped>\n",
       "    .dataframe tbody tr th:only-of-type {\n",
       "        vertical-align: middle;\n",
       "    }\n",
       "\n",
       "    .dataframe tbody tr th {\n",
       "        vertical-align: top;\n",
       "    }\n",
       "\n",
       "    .dataframe thead th {\n",
       "        text-align: right;\n",
       "    }\n",
       "</style>\n",
       "<table border=\"1\" class=\"dataframe\">\n",
       "  <thead>\n",
       "    <tr style=\"text-align: right;\">\n",
       "      <th></th>\n",
       "      <th>Date</th>\n",
       "      <th>Year</th>\n",
       "      <th>Open</th>\n",
       "      <th>High</th>\n",
       "      <th>Low</th>\n",
       "      <th>Close</th>\n",
       "      <th>Adj Close</th>\n",
       "      <th>Volume</th>\n",
       "    </tr>\n",
       "  </thead>\n",
       "  <tbody>\n",
       "    <tr>\n",
       "      <th>0</th>\n",
       "      <td>2/5/2018</td>\n",
       "      <td>2018</td>\n",
       "      <td>262.000000</td>\n",
       "      <td>267.899994</td>\n",
       "      <td>250.029999</td>\n",
       "      <td>254.259995</td>\n",
       "      <td>254.259995</td>\n",
       "      <td>11896100</td>\n",
       "    </tr>\n",
       "    <tr>\n",
       "      <th>1</th>\n",
       "      <td>2/6/2018</td>\n",
       "      <td>2018</td>\n",
       "      <td>247.699997</td>\n",
       "      <td>266.700012</td>\n",
       "      <td>245.000000</td>\n",
       "      <td>265.720001</td>\n",
       "      <td>265.720001</td>\n",
       "      <td>12595800</td>\n",
       "    </tr>\n",
       "    <tr>\n",
       "      <th>2</th>\n",
       "      <td>2/7/2018</td>\n",
       "      <td>2018</td>\n",
       "      <td>266.579987</td>\n",
       "      <td>272.450012</td>\n",
       "      <td>264.329987</td>\n",
       "      <td>264.559998</td>\n",
       "      <td>264.559998</td>\n",
       "      <td>8981500</td>\n",
       "    </tr>\n",
       "    <tr>\n",
       "      <th>3</th>\n",
       "      <td>2/8/2018</td>\n",
       "      <td>2018</td>\n",
       "      <td>267.079987</td>\n",
       "      <td>267.619995</td>\n",
       "      <td>250.000000</td>\n",
       "      <td>250.100006</td>\n",
       "      <td>250.100006</td>\n",
       "      <td>9306700</td>\n",
       "    </tr>\n",
       "    <tr>\n",
       "      <th>4</th>\n",
       "      <td>2/9/2018</td>\n",
       "      <td>2018</td>\n",
       "      <td>253.850006</td>\n",
       "      <td>255.800003</td>\n",
       "      <td>236.110001</td>\n",
       "      <td>249.470001</td>\n",
       "      <td>249.470001</td>\n",
       "      <td>16906900</td>\n",
       "    </tr>\n",
       "  </tbody>\n",
       "</table>\n",
       "</div>"
      ],
      "text/plain": [
       "       Date  Year        Open        High         Low       Close   Adj Close  \\\n",
       "0  2/5/2018  2018  262.000000  267.899994  250.029999  254.259995  254.259995   \n",
       "1  2/6/2018  2018  247.699997  266.700012  245.000000  265.720001  265.720001   \n",
       "2  2/7/2018  2018  266.579987  272.450012  264.329987  264.559998  264.559998   \n",
       "3  2/8/2018  2018  267.079987  267.619995  250.000000  250.100006  250.100006   \n",
       "4  2/9/2018  2018  253.850006  255.800003  236.110001  249.470001  249.470001   \n",
       "\n",
       "     Volume  \n",
       "0  11896100  \n",
       "1  12595800  \n",
       "2   8981500  \n",
       "3   9306700  \n",
       "4  16906900  "
      ]
     },
     "execution_count": 5,
     "metadata": {},
     "output_type": "execute_result"
    }
   ],
   "source": [
    "df.head()"
   ]
  },
  {
   "cell_type": "code",
   "execution_count": 6,
   "id": "72f1b7e6-512d-4374-b98f-985ab3c05cf5",
   "metadata": {},
   "outputs": [
    {
     "data": {
      "text/html": [
       "<div>\n",
       "<style scoped>\n",
       "    .dataframe tbody tr th:only-of-type {\n",
       "        vertical-align: middle;\n",
       "    }\n",
       "\n",
       "    .dataframe tbody tr th {\n",
       "        vertical-align: top;\n",
       "    }\n",
       "\n",
       "    .dataframe thead th {\n",
       "        text-align: right;\n",
       "    }\n",
       "</style>\n",
       "<table border=\"1\" class=\"dataframe\">\n",
       "  <thead>\n",
       "    <tr style=\"text-align: right;\">\n",
       "      <th></th>\n",
       "      <th>Date</th>\n",
       "      <th>Year</th>\n",
       "      <th>Open</th>\n",
       "      <th>High</th>\n",
       "      <th>Low</th>\n",
       "      <th>Close</th>\n",
       "      <th>Adj Close</th>\n",
       "      <th>Volume</th>\n",
       "    </tr>\n",
       "  </thead>\n",
       "  <tbody>\n",
       "    <tr>\n",
       "      <th>1004</th>\n",
       "      <td>1/31/2022</td>\n",
       "      <td>2022</td>\n",
       "      <td>401.970001</td>\n",
       "      <td>427.700012</td>\n",
       "      <td>398.200012</td>\n",
       "      <td>427.140015</td>\n",
       "      <td>427.140015</td>\n",
       "      <td>20047500</td>\n",
       "    </tr>\n",
       "    <tr>\n",
       "      <th>1005</th>\n",
       "      <td>2/1/2022</td>\n",
       "      <td>2022</td>\n",
       "      <td>432.959991</td>\n",
       "      <td>458.480011</td>\n",
       "      <td>425.540009</td>\n",
       "      <td>457.130005</td>\n",
       "      <td>457.130005</td>\n",
       "      <td>22542300</td>\n",
       "    </tr>\n",
       "    <tr>\n",
       "      <th>1006</th>\n",
       "      <td>2/2/2022</td>\n",
       "      <td>2022</td>\n",
       "      <td>448.250000</td>\n",
       "      <td>451.980011</td>\n",
       "      <td>426.480011</td>\n",
       "      <td>429.480011</td>\n",
       "      <td>429.480011</td>\n",
       "      <td>14346000</td>\n",
       "    </tr>\n",
       "    <tr>\n",
       "      <th>1007</th>\n",
       "      <td>2/3/2022</td>\n",
       "      <td>2022</td>\n",
       "      <td>421.440002</td>\n",
       "      <td>429.260010</td>\n",
       "      <td>404.279999</td>\n",
       "      <td>405.600006</td>\n",
       "      <td>405.600006</td>\n",
       "      <td>9905200</td>\n",
       "    </tr>\n",
       "    <tr>\n",
       "      <th>1008</th>\n",
       "      <td>2/4/2022</td>\n",
       "      <td>2022</td>\n",
       "      <td>407.309998</td>\n",
       "      <td>412.769989</td>\n",
       "      <td>396.640015</td>\n",
       "      <td>410.170013</td>\n",
       "      <td>410.170013</td>\n",
       "      <td>7782400</td>\n",
       "    </tr>\n",
       "  </tbody>\n",
       "</table>\n",
       "</div>"
      ],
      "text/plain": [
       "           Date  Year        Open        High         Low       Close  \\\n",
       "1004  1/31/2022  2022  401.970001  427.700012  398.200012  427.140015   \n",
       "1005   2/1/2022  2022  432.959991  458.480011  425.540009  457.130005   \n",
       "1006   2/2/2022  2022  448.250000  451.980011  426.480011  429.480011   \n",
       "1007   2/3/2022  2022  421.440002  429.260010  404.279999  405.600006   \n",
       "1008   2/4/2022  2022  407.309998  412.769989  396.640015  410.170013   \n",
       "\n",
       "       Adj Close    Volume  \n",
       "1004  427.140015  20047500  \n",
       "1005  457.130005  22542300  \n",
       "1006  429.480011  14346000  \n",
       "1007  405.600006   9905200  \n",
       "1008  410.170013   7782400  "
      ]
     },
     "execution_count": 6,
     "metadata": {},
     "output_type": "execute_result"
    }
   ],
   "source": [
    "df.tail()"
   ]
  },
  {
   "cell_type": "code",
   "execution_count": 7,
   "id": "93028739-a039-4229-8b7b-d569bd297430",
   "metadata": {},
   "outputs": [
    {
     "data": {
      "text/html": [
       "<div>\n",
       "<style scoped>\n",
       "    .dataframe tbody tr th:only-of-type {\n",
       "        vertical-align: middle;\n",
       "    }\n",
       "\n",
       "    .dataframe tbody tr th {\n",
       "        vertical-align: top;\n",
       "    }\n",
       "\n",
       "    .dataframe thead th {\n",
       "        text-align: right;\n",
       "    }\n",
       "</style>\n",
       "<table border=\"1\" class=\"dataframe\">\n",
       "  <thead>\n",
       "    <tr style=\"text-align: right;\">\n",
       "      <th></th>\n",
       "      <th>Year</th>\n",
       "      <th>Open</th>\n",
       "      <th>High</th>\n",
       "      <th>Low</th>\n",
       "      <th>Close</th>\n",
       "      <th>Adj Close</th>\n",
       "      <th>Volume</th>\n",
       "    </tr>\n",
       "  </thead>\n",
       "  <tbody>\n",
       "    <tr>\n",
       "      <th>count</th>\n",
       "      <td>1009.000000</td>\n",
       "      <td>1009.000000</td>\n",
       "      <td>1009.000000</td>\n",
       "      <td>1009.000000</td>\n",
       "      <td>1009.000000</td>\n",
       "      <td>1009.000000</td>\n",
       "      <td>1.009000e+03</td>\n",
       "    </tr>\n",
       "    <tr>\n",
       "      <th>mean</th>\n",
       "      <td>2019.595639</td>\n",
       "      <td>419.059673</td>\n",
       "      <td>425.320703</td>\n",
       "      <td>412.374044</td>\n",
       "      <td>419.000733</td>\n",
       "      <td>419.000733</td>\n",
       "      <td>7.570685e+06</td>\n",
       "    </tr>\n",
       "    <tr>\n",
       "      <th>std</th>\n",
       "      <td>1.155997</td>\n",
       "      <td>108.537532</td>\n",
       "      <td>109.262960</td>\n",
       "      <td>107.555867</td>\n",
       "      <td>108.289999</td>\n",
       "      <td>108.289999</td>\n",
       "      <td>5.465535e+06</td>\n",
       "    </tr>\n",
       "    <tr>\n",
       "      <th>min</th>\n",
       "      <td>2018.000000</td>\n",
       "      <td>233.919998</td>\n",
       "      <td>250.649994</td>\n",
       "      <td>231.229996</td>\n",
       "      <td>233.880005</td>\n",
       "      <td>233.880005</td>\n",
       "      <td>1.144000e+06</td>\n",
       "    </tr>\n",
       "    <tr>\n",
       "      <th>25%</th>\n",
       "      <td>2019.000000</td>\n",
       "      <td>331.489990</td>\n",
       "      <td>336.299988</td>\n",
       "      <td>326.000000</td>\n",
       "      <td>331.619995</td>\n",
       "      <td>331.619995</td>\n",
       "      <td>4.091900e+06</td>\n",
       "    </tr>\n",
       "    <tr>\n",
       "      <th>50%</th>\n",
       "      <td>2020.000000</td>\n",
       "      <td>377.769989</td>\n",
       "      <td>383.010010</td>\n",
       "      <td>370.880005</td>\n",
       "      <td>378.670013</td>\n",
       "      <td>378.670013</td>\n",
       "      <td>5.934500e+06</td>\n",
       "    </tr>\n",
       "    <tr>\n",
       "      <th>75%</th>\n",
       "      <td>2021.000000</td>\n",
       "      <td>509.130005</td>\n",
       "      <td>515.630005</td>\n",
       "      <td>502.529999</td>\n",
       "      <td>509.079987</td>\n",
       "      <td>509.079987</td>\n",
       "      <td>9.322400e+06</td>\n",
       "    </tr>\n",
       "    <tr>\n",
       "      <th>max</th>\n",
       "      <td>2022.000000</td>\n",
       "      <td>692.349976</td>\n",
       "      <td>700.989990</td>\n",
       "      <td>686.090027</td>\n",
       "      <td>691.690002</td>\n",
       "      <td>691.690002</td>\n",
       "      <td>5.890430e+07</td>\n",
       "    </tr>\n",
       "  </tbody>\n",
       "</table>\n",
       "</div>"
      ],
      "text/plain": [
       "              Year         Open         High          Low        Close  \\\n",
       "count  1009.000000  1009.000000  1009.000000  1009.000000  1009.000000   \n",
       "mean   2019.595639   419.059673   425.320703   412.374044   419.000733   \n",
       "std       1.155997   108.537532   109.262960   107.555867   108.289999   \n",
       "min    2018.000000   233.919998   250.649994   231.229996   233.880005   \n",
       "25%    2019.000000   331.489990   336.299988   326.000000   331.619995   \n",
       "50%    2020.000000   377.769989   383.010010   370.880005   378.670013   \n",
       "75%    2021.000000   509.130005   515.630005   502.529999   509.079987   \n",
       "max    2022.000000   692.349976   700.989990   686.090027   691.690002   \n",
       "\n",
       "         Adj Close        Volume  \n",
       "count  1009.000000  1.009000e+03  \n",
       "mean    419.000733  7.570685e+06  \n",
       "std     108.289999  5.465535e+06  \n",
       "min     233.880005  1.144000e+06  \n",
       "25%     331.619995  4.091900e+06  \n",
       "50%     378.670013  5.934500e+06  \n",
       "75%     509.079987  9.322400e+06  \n",
       "max     691.690002  5.890430e+07  "
      ]
     },
     "execution_count": 7,
     "metadata": {},
     "output_type": "execute_result"
    }
   ],
   "source": [
    "df.describe()"
   ]
  },
  {
   "cell_type": "code",
   "execution_count": 8,
   "id": "81eb0ec1-8c01-4587-b764-8125cf57f756",
   "metadata": {},
   "outputs": [
    {
     "name": "stdout",
     "output_type": "stream",
     "text": [
      "<class 'pandas.core.frame.DataFrame'>\n",
      "RangeIndex: 1009 entries, 0 to 1008\n",
      "Data columns (total 8 columns):\n",
      " #   Column     Non-Null Count  Dtype  \n",
      "---  ------     --------------  -----  \n",
      " 0   Date       1009 non-null   object \n",
      " 1   Year       1009 non-null   int64  \n",
      " 2   Open       1009 non-null   float64\n",
      " 3   High       1009 non-null   float64\n",
      " 4   Low        1009 non-null   float64\n",
      " 5   Close      1009 non-null   float64\n",
      " 6   Adj Close  1009 non-null   float64\n",
      " 7   Volume     1009 non-null   int64  \n",
      "dtypes: float64(5), int64(2), object(1)\n",
      "memory usage: 63.2+ KB\n"
     ]
    }
   ],
   "source": [
    "df.info()"
   ]
  },
  {
   "cell_type": "code",
   "execution_count": 9,
   "id": "fc710731-fff1-4d55-8f01-c040a6087df9",
   "metadata": {},
   "outputs": [
    {
     "data": {
      "text/plain": [
       "(1009, 8)"
      ]
     },
     "execution_count": 9,
     "metadata": {},
     "output_type": "execute_result"
    }
   ],
   "source": [
    "df.shape"
   ]
  },
  {
   "cell_type": "code",
   "execution_count": 10,
   "id": "666f9d63-31f4-438a-b5ec-2ef91f86b9f5",
   "metadata": {},
   "outputs": [],
   "source": [
    "## lets check the null values"
   ]
  },
  {
   "cell_type": "code",
   "execution_count": 11,
   "id": "f9d919bd-da0e-45e6-bb8d-3ad619187b61",
   "metadata": {},
   "outputs": [
    {
     "data": {
      "text/plain": [
       "Date         0\n",
       "Year         0\n",
       "Open         0\n",
       "High         0\n",
       "Low          0\n",
       "Close        0\n",
       "Adj Close    0\n",
       "Volume       0\n",
       "dtype: int64"
      ]
     },
     "execution_count": 11,
     "metadata": {},
     "output_type": "execute_result"
    }
   ],
   "source": [
    "df.isnull().sum()"
   ]
  },
  {
   "cell_type": "code",
   "execution_count": 12,
   "id": "abed1a04-3ca5-47aa-a478-9a6a744beea6",
   "metadata": {},
   "outputs": [],
   "source": [
    "## data visualization"
   ]
  },
  {
   "cell_type": "code",
   "execution_count": 13,
   "id": "b6a2e592-15e9-4163-9386-f2033f40589a",
   "metadata": {},
   "outputs": [
    {
     "data": {
      "image/png": "[encoded data removed]",
      "text/plain": [
       "<Figure size 640x480 with 1 Axes>"
      ]
     },
     "metadata": {},
     "output_type": "display_data"
    }
   ],
   "source": [
    "new_df = pd.read_csv('NFLX.csv', index_col='Date', parse_dates=True)\n",
    "# Plot the line chart\n",
    "new_df[[ 'Volume']].plot()\n",
    "\n",
    "# Display the chart\n",
    "plt.show()"
   ]
  },
  {
   "cell_type": "code",
   "execution_count": 14,
   "id": "d9f8716a-acb7-4040-ba85-f44222b13283",
   "metadata": {},
   "outputs": [
    {
     "data": {
      "image/png": "[encoded data removed]",
      "text/plain": [
       "<Figure size 640x480 with 1 Axes>"
      ]
     },
     "metadata": {},
     "output_type": "display_data"
    }
   ],
   "source": [
    "new_df = pd.read_csv('NFLX.csv', index_col='Date', parse_dates=True)\n",
    "# Plot the line chart\n",
    "new_df[[ 'Open', 'High' ,'Close','Low']].plot()\n",
    "\n",
    "# Display the chart\n",
    "plt.show()"
   ]
  },
  {
   "cell_type": "code",
   "execution_count": 15,
   "id": "cca74117-6b9a-4024-839a-da12a976c473",
   "metadata": {},
   "outputs": [],
   "source": [
    "close_df = new_df['Close']"
   ]
  },
  {
   "cell_type": "code",
   "execution_count": 16,
   "id": "56923959-bc4a-455b-8ddd-52cab977278d",
   "metadata": {},
   "outputs": [
    {
     "data": {
      "text/plain": [
       "Date\n",
       "2018-02-05    254.259995\n",
       "2018-02-06    265.720001\n",
       "2018-02-07    264.559998\n",
       "2018-02-08    250.100006\n",
       "2018-02-09    249.470001\n",
       "                 ...    \n",
       "2022-01-31    427.140015\n",
       "2022-02-01    457.130005\n",
       "2022-02-02    429.480011\n",
       "2022-02-03    405.600006\n",
       "2022-02-04    410.170013\n",
       "Name: Close, Length: 1009, dtype: float64"
      ]
     },
     "execution_count": 16,
     "metadata": {},
     "output_type": "execute_result"
    }
   ],
   "source": [
    "close_df"
   ]
  },
  {
   "cell_type": "code",
   "execution_count": 17,
   "id": "d58fee70-2b54-4025-b8ed-24d1d0d379a4",
   "metadata": {},
   "outputs": [
    {
     "data": {
      "text/plain": [
       "1009"
      ]
     },
     "execution_count": 17,
     "metadata": {},
     "output_type": "execute_result"
    }
   ],
   "source": [
    "close_df.size"
   ]
  },
  {
   "cell_type": "code",
   "execution_count": 18,
   "id": "8476bbac-f3fa-4454-a038-25821b48e385",
   "metadata": {},
   "outputs": [
    {
     "name": "stdout",
     "output_type": "stream",
     "text": [
      "<class 'pandas.core.series.Series'>\n",
      "DatetimeIndex: 1009 entries, 2018-02-05 to 2022-02-04\n",
      "Series name: Close\n",
      "Non-Null Count  Dtype  \n",
      "--------------  -----  \n",
      "1009 non-null   float64\n",
      "dtypes: float64(1)\n",
      "memory usage: 15.8 KB\n"
     ]
    }
   ],
   "source": [
    "close_df.info()"
   ]
  },
  {
   "cell_type": "code",
   "execution_count": 19,
   "id": "45a0f3f2-b5b1-4b67-9da0-c2eba78e1005",
   "metadata": {},
   "outputs": [
    {
     "data": {
      "text/plain": [
       "count    1009.000000\n",
       "mean      419.000733\n",
       "std       108.289999\n",
       "min       233.880005\n",
       "25%       331.619995\n",
       "50%       378.670013\n",
       "75%       509.079987\n",
       "max       691.690002\n",
       "Name: Close, dtype: float64"
      ]
     },
     "execution_count": 19,
     "metadata": {},
     "output_type": "execute_result"
    }
   ],
   "source": [
    "close_df.describe()"
   ]
  },
  {
   "cell_type": "code",
   "execution_count": 20,
   "id": "0b5e5788-f645-47ef-acc8-c217ae1b9e19",
   "metadata": {},
   "outputs": [
    {
     "data": {
      "text/plain": [
       "0    357.320007\n",
       "Name: Close, dtype: float64"
      ]
     },
     "execution_count": 20,
     "metadata": {},
     "output_type": "execute_result"
    }
   ],
   "source": [
    "close_df.mode()"
   ]
  },
  {
   "cell_type": "code",
   "execution_count": 21,
   "id": "2ce09994-8878-4fdd-ab2c-b6622abd23ae",
   "metadata": {},
   "outputs": [
    {
     "data": {
      "text/plain": [
       "378.670013"
      ]
     },
     "execution_count": 21,
     "metadata": {},
     "output_type": "execute_result"
    }
   ],
   "source": [
    "close_df.median()"
   ]
  },
  {
   "cell_type": "code",
   "execution_count": 22,
   "id": "c9bdff05-4cb4-4d75-9cb4-52547b54b319",
   "metadata": {},
   "outputs": [
    {
     "data": {
      "text/html": [
       "<div>\n",
       "<style scoped>\n",
       "    .dataframe tbody tr th:only-of-type {\n",
       "        vertical-align: middle;\n",
       "    }\n",
       "\n",
       "    .dataframe tbody tr th {\n",
       "        vertical-align: top;\n",
       "    }\n",
       "\n",
       "    .dataframe thead th {\n",
       "        text-align: right;\n",
       "    }\n",
       "</style>\n",
       "<table border=\"1\" class=\"dataframe\">\n",
       "  <thead>\n",
       "    <tr style=\"text-align: right;\">\n",
       "      <th></th>\n",
       "      <th>Date</th>\n",
       "      <th>Close</th>\n",
       "    </tr>\n",
       "  </thead>\n",
       "  <tbody>\n",
       "    <tr>\n",
       "      <th>0</th>\n",
       "      <td>2018-02-05</td>\n",
       "      <td>254.259995</td>\n",
       "    </tr>\n",
       "    <tr>\n",
       "      <th>1</th>\n",
       "      <td>2018-02-06</td>\n",
       "      <td>265.720001</td>\n",
       "    </tr>\n",
       "    <tr>\n",
       "      <th>2</th>\n",
       "      <td>2018-02-07</td>\n",
       "      <td>264.559998</td>\n",
       "    </tr>\n",
       "    <tr>\n",
       "      <th>3</th>\n",
       "      <td>2018-02-08</td>\n",
       "      <td>250.100006</td>\n",
       "    </tr>\n",
       "    <tr>\n",
       "      <th>4</th>\n",
       "      <td>2018-02-09</td>\n",
       "      <td>249.470001</td>\n",
       "    </tr>\n",
       "    <tr>\n",
       "      <th>...</th>\n",
       "      <td>...</td>\n",
       "      <td>...</td>\n",
       "    </tr>\n",
       "    <tr>\n",
       "      <th>1004</th>\n",
       "      <td>2022-01-31</td>\n",
       "      <td>427.140015</td>\n",
       "    </tr>\n",
       "    <tr>\n",
       "      <th>1005</th>\n",
       "      <td>2022-02-01</td>\n",
       "      <td>457.130005</td>\n",
       "    </tr>\n",
       "    <tr>\n",
       "      <th>1006</th>\n",
       "      <td>2022-02-02</td>\n",
       "      <td>429.480011</td>\n",
       "    </tr>\n",
       "    <tr>\n",
       "      <th>1007</th>\n",
       "      <td>2022-02-03</td>\n",
       "      <td>405.600006</td>\n",
       "    </tr>\n",
       "    <tr>\n",
       "      <th>1008</th>\n",
       "      <td>2022-02-04</td>\n",
       "      <td>410.170013</td>\n",
       "    </tr>\n",
       "  </tbody>\n",
       "</table>\n",
       "<p>1009 rows × 2 columns</p>\n",
       "</div>"
      ],
      "text/plain": [
       "           Date       Close\n",
       "0    2018-02-05  254.259995\n",
       "1    2018-02-06  265.720001\n",
       "2    2018-02-07  264.559998\n",
       "3    2018-02-08  250.100006\n",
       "4    2018-02-09  249.470001\n",
       "...         ...         ...\n",
       "1004 2022-01-31  427.140015\n",
       "1005 2022-02-01  457.130005\n",
       "1006 2022-02-02  429.480011\n",
       "1007 2022-02-03  405.600006\n",
       "1008 2022-02-04  410.170013\n",
       "\n",
       "[1009 rows x 2 columns]"
      ]
     },
     "execution_count": 22,
     "metadata": {},
     "output_type": "execute_result"
    }
   ],
   "source": [
    "close_df.reset_index()"
   ]
  },
  {
   "cell_type": "code",
   "execution_count": 23,
   "id": "d987feac-77c6-4589-9c23-085313f0be4c",
   "metadata": {},
   "outputs": [
    {
     "data": {
      "text/plain": [
       "(1009,)"
      ]
     },
     "execution_count": 23,
     "metadata": {},
     "output_type": "execute_result"
    }
   ],
   "source": [
    "close_df.shape"
   ]
  },
  {
   "cell_type": "code",
   "execution_count": 24,
   "id": "a62a4317-7412-4293-a1d7-d63961686fdb",
   "metadata": {},
   "outputs": [
    {
     "data": {
      "text/plain": [
       "[<matplotlib.lines.Line2D at 0x1dfaa910050>]"
      ]
     },
     "execution_count": 24,
     "metadata": {},
     "output_type": "execute_result"
    },
    {
     "data": {
      "image/png": "[encoded data removed]",
      "text/plain": [
       "<Figure size 640x480 with 1 Axes>"
      ]
     },
     "metadata": {},
     "output_type": "display_data"
    }
   ],
   "source": [
    "plt.plot(close_df)"
   ]
  },
  {
   "cell_type": "code",
   "execution_count": 25,
   "id": "d45a731d-028a-474d-bbf8-05f854b963f7",
   "metadata": {},
   "outputs": [],
   "source": [
    "### Min Max Scaler for LSTM"
   ]
  },
  {
   "cell_type": "code",
   "execution_count": 26,
   "id": "9931d3f8-0341-4049-9ecf-410746093a49",
   "metadata": {},
   "outputs": [],
   "source": [
    "from sklearn.preprocessing  import MinMaxScaler\n",
    "scaler=MinMaxScaler(feature_range=(0,1))\n",
    "close_df=scaler.fit_transform(np.array(close_df).reshape(-1,1))"
   ]
  },
  {
   "cell_type": "code",
   "execution_count": 27,
   "id": "c63e6a76-9c6b-47ae-88c7-d03aae7edf20",
   "metadata": {},
   "outputs": [
    {
     "data": {
      "text/plain": [
       "(1009, 1)"
      ]
     },
     "execution_count": 27,
     "metadata": {},
     "output_type": "execute_result"
    }
   ],
   "source": [
    "close_df.shape"
   ]
  },
  {
   "cell_type": "code",
   "execution_count": 28,
   "id": "020ea14f-bd7b-47ea-a853-2fdbed44371b",
   "metadata": {},
   "outputs": [
    {
     "data": {
      "text/plain": [
       "array([[0.04451626],\n",
       "       [0.06954849],\n",
       "       [0.06701469],\n",
       "       ...,\n",
       "       [0.4272515 ],\n",
       "       [0.37509011],\n",
       "       [0.38507243]])"
      ]
     },
     "execution_count": 28,
     "metadata": {},
     "output_type": "execute_result"
    }
   ],
   "source": [
    "close_df"
   ]
  },
  {
   "cell_type": "code",
   "execution_count": 29,
   "id": "769909fc-b0da-44a2-921d-0298606fedb6",
   "metadata": {},
   "outputs": [],
   "source": [
    "### spliting dataset into train and test split "
   ]
  },
  {
   "cell_type": "code",
   "execution_count": 30,
   "id": "db3f8082-4598-4f2a-b42d-8bb8049c2168",
   "metadata": {},
   "outputs": [],
   "source": [
    "training_size=int(len(close_df)*0.70)\n",
    "test_size= len(close_df)-training_size\n",
    "train_data,test_data=close_df[0:training_size,:],close_df[training_size:len(close_df),:1]\n",
    "### let me explain it here here i split my data into 2 parts  one is training data or size or the another data is  tets size , so i uses the this \n",
    "### which says  that \"training_size=int(len(close_df)*0.70)\" it means 70 % of data will going to be my training data and restw ill be my test data\n"
   ]
  },
  {
   "cell_type": "code",
   "execution_count": 31,
   "id": "a2558cdd-cfd7-4b1d-abf8-17057cfd8cbb",
   "metadata": {},
   "outputs": [
    {
     "data": {
      "text/plain": [
       "(706, 303)"
      ]
     },
     "execution_count": 31,
     "metadata": {},
     "output_type": "execute_result"
    }
   ],
   "source": [
    "training_size,test_size"
   ]
  },
  {
   "cell_type": "code",
   "execution_count": 32,
   "id": "b7585fc0-6a36-4ebd-a8b6-366109abd9eb",
   "metadata": {},
   "outputs": [
    {
     "data": {
      "text/plain": [
       "1009"
      ]
     },
     "execution_count": 32,
     "metadata": {},
     "output_type": "execute_result"
    }
   ],
   "source": [
    "close_df.size"
   ]
  },
  {
   "cell_type": "code",
   "execution_count": 33,
   "id": "fbad81ca-df0a-438b-a336-19c914ca5395",
   "metadata": {},
   "outputs": [],
   "source": [
    "#converting array values into a dataset matrix\n",
    "def create_dataset(dataset,time_step=1):\n",
    "    dataX, dataY = [], []\n",
    "    for i in range(len(dataset)-time_step-1):\n",
    "        a = dataset[i:(i+time_step), 0]\n",
    "        dataX.append(a)\n",
    "        dataY.append(dataset[i+time_step,0])\n",
    "    return np.array(dataX),np.array(dataY)"
   ]
  },
  {
   "cell_type": "code",
   "execution_count": 34,
   "id": "2423a5ab-0816-4acc-959f-e423c96fa270",
   "metadata": {},
   "outputs": [],
   "source": [
    "#reshape the data into X=t,t+1,t+2,t+3 and Y=t+4\n",
    "time_step = 100\n",
    "X_train,Y_train = create_dataset(train_data,time_step)\n",
    "X_test,Y_test = create_dataset(test_data,time_step)"
   ]
  },
  {
   "cell_type": "code",
   "execution_count": 35,
   "id": "a674ffdf-7484-45af-b5e4-f046de6825da",
   "metadata": {},
   "outputs": [
    {
     "name": "stdout",
     "output_type": "stream",
     "text": [
      "[[0.04451626 0.06954849 0.06701469 ... 0.32895744 0.36152555 0.34186674]\n",
      " [0.06954849 0.06701469 0.03542955 ... 0.36152555 0.34186674 0.35285382]\n",
      " [0.06701469 0.03542955 0.03405342 ... 0.34186674 0.35285382 0.34413837]\n",
      " ...\n",
      " [0.45765709 0.46604484 0.48308251 ... 0.5523907  0.54380637 0.53563706]\n",
      " [0.46604484 0.48308251 0.54992248 ... 0.54380637 0.53563706 0.53897906]\n",
      " [0.48308251 0.54992248 0.53080975 ... 0.53563706 0.53897906 0.54151287]]\n"
     ]
    }
   ],
   "source": [
    "print(X_train)"
   ]
  },
  {
   "cell_type": "code",
   "execution_count": 36,
   "id": "c3f2eb48-f20f-43a8-a7b6-b3118612fe7c",
   "metadata": {},
   "outputs": [
    {
     "name": "stdout",
     "output_type": "stream",
     "text": [
      "[0.35285382 0.34413837 0.35888248 0.34215064 0.35934124 0.38087852\n",
      " 0.40429435 0.39699876 0.40359536 0.39234616 0.35368381 0.36390644\n",
      " 0.31803588 0.30853411 0.28472512 0.27777896 0.28129573 0.26963151\n",
      " 0.28175442 0.28223497 0.26502258 0.22079026 0.22622924 0.22826063\n",
      " 0.24162861 0.23854872 0.25565193 0.25763959 0.24842179 0.25224434\n",
      " 0.24462111 0.23466065 0.22631656 0.20209255 0.19344269 0.18107948\n",
      " 0.20499772 0.22747425 0.24149756 0.22998626 0.27290798 0.28548958\n",
      " 0.29403024 0.29304734 0.29946923 0.29226096 0.28334899 0.23437668\n",
      " 0.24590985 0.25075902 0.25016928 0.26659529 0.29721939 0.29328759\n",
      " 0.28544591 0.25440685 0.29219543 0.29068825 0.28719334 0.27808479\n",
      " 0.29647666 0.2960835  0.31454097 0.32072254 0.3063498  0.32229525\n",
      " 0.3129246  0.31272795 0.28345818 0.25659117 0.25167646 0.26611473\n",
      " 0.2009786  0.19051572 0.23083811 0.21679299 0.24577879 0.28575175\n",
      " 0.24645592 0.21578823 0.20895132 0.21685852 0.14842398 0.17253881\n",
      " 0.14405536 0.11131253 0.11343132 0.14831479 0.18239008 0.16430397\n",
      " 0.1781525  0.16810465 0.20449531 0.18356962 0.15200628 0.13147376\n",
      " 0.13219456 0.11544092 0.12271465 0.11430503 0.08020795 0.07230075\n",
      " 0.06170682 0.05447675 0.06017778 0.07153623 0.10652889 0.1198532\n",
      " 0.11413032 0.12323886 0.0905397  0.1070313  0.06828162 0.07824208\n",
      " 0.06867478 0.0895568  0.09204688 0.07199491 0.06317027 0.08095061\n",
      " 0.071842   0.0583211  0.02732573 0.         0.04322752 0.04737774\n",
      " 0.04849169 0.07378607 0.07378607 0.08151855 0.13911885 0.17793406\n",
      " 0.1887027  0.18802557 0.19829187 0.22653501 0.21637797 0.26377757\n",
      " 0.25667856 0.26061029 0.22983334 0.19938402 0.19245972 0.20268235\n",
      " 0.22753977 0.2223193  0.20755333 0.23324086 0.23070705 0.23147157\n",
      " 0.2565693  0.26633318 0.25842598 0.2420873  0.24833447 0.24431534\n",
      " 0.27541993 0.25750854 0.27345406 0.26864855 0.27967936 0.27528887\n",
      " 0.26886699 0.28208205 0.28402612 0.28634149 0.28175442 0.27133527\n",
      " 0.26963151 0.25591404 0.26303485 0.27463354 0.25932156 0.25276862\n",
      " 0.27299531 0.26733795 0.27812845 0.27290798 0.27867453 0.28299949\n",
      " 0.27282059 0.30873069 0.3145191  0.27769163 0.28909374 0.27541993\n",
      " 0.26100345 0.26371198 0.26797142 0.29068825 0.29234835 0.2967825\n",
      " 0.29269785 0.28747731 0.27856534 0.28577355 0.28404799 0.29219543\n",
      " 0.25613248 0.25117405 0.27430591 0.26399595 0.27624998 0.31336142\n",
      " 0.32330008 0.30656824 0.29368075 0.3079225  0.30132584 0.29850813\n",
      " 0.31657236 0.31711844 0.33015879 0.31626659 0.29833334 0.28503089\n",
      " 0.28149231 0.27775716 0.24328871 0.24405317 0.26454203 0.27397827\n",
      " 0.26336255 0.24951395 0.26296932 0.27489571 0.25846964 0.2632315\n",
      " 0.26469495 0.25187304 0.25768332 0.23896375 0.22443809 0.26106898\n",
      " 0.26615846 0.26921649 0.2773858  0.25803282 0.25641638 0.24394398\n",
      " 0.23929138 0.23120947 0.25499659 0.26919462 0.28317421 0.2868657\n",
      " 0.29560295 0.29960028 0.27614072 0.28029097 0.29737224 0.29147464\n",
      " 0.30737643 0.30918938 0.32292872 0.32037305 0.31078395 0.31901878\n",
      " 0.32135601 0.31807954 0.30442759 0.28990193 0.28856946 0.28081518\n",
      " 0.19949321 0.17740985 0.1676241  0.16037217 0.18361328 0.2022236\n",
      " 0.22258141 0.21585376 0.20106592 0.19464403 0.18702081 0.18555729\n",
      " 0.16109303 0.16648828 0.15379744 0.17915727 0.16393261 0.16808279\n",
      " 0.17125007 0.14248265 0.13516526 0.15054277 0.16491558 0.14222054\n",
      " 0.13964307 0.13772086 0.12572901 0.13346149 0.12483343 0.1264498\n",
      " 0.13739323 0.13077477 0.12103275 0.12590373 0.12968261 0.12295496\n",
      " 0.1320635  0.1181931  0.11880471 0.12009345 0.13164848 0.13195431\n",
      " 0.14136869 0.12599112 0.11515695 0.08053558 0.06998538 0.04523709\n",
      " 0.06742971 0.0642843  0.06378188 0.07369867 0.07797991 0.07459425\n",
      " 0.07485636 0.0849916  0.08863936 0.08047006 0.0735021  0.10178897\n",
      " 0.10714049 0.11281972 0.1100238  0.11445795 0.12990105 0.09047418\n",
      " 0.09648104 0.07166728 0.0816714  0.08217382 0.09379437 0.10480326\n",
      " 0.10338347 0.12575087 0.11692623 0.11561563 0.12883069 0.1182805\n",
      " 0.11950371 0.12164436 0.12601298 0.131714   0.12697408 0.10753365\n",
      " 0.12175354 0.13357068 0.15004042 0.15010594 0.15569778 0.16996133\n",
      " 0.16731833 0.17839275 0.17170876 0.1792228  0.17644874 0.16624798\n",
      " 0.15788209 0.15386296 0.15067382 0.16048143 0.1498875  0.12939864\n",
      " 0.14208949 0.14101919 0.14115025 0.15362265 0.1782399  0.18986039\n",
      " 0.21480526 0.22502783 0.21672747 0.21694591 0.21570084 0.20796835\n",
      " 0.19534303 0.19591097 0.20954106 0.20100039 0.2226906  0.21159432\n",
      " 0.23018284 0.2223193  0.20788096 0.22944018 0.22893776 0.22976781\n",
      " 0.22878485 0.23107841 0.22767083 0.20121884 0.25276862 0.26054477\n",
      " 0.23809004 0.25040953 0.23870164 0.24870576 0.24291735 0.27111683\n",
      " 0.29516613 0.29660778 0.29066645 0.29027322 0.29966581 0.30538869\n",
      " 0.31919356 0.32222972 0.32004541 0.33616565 0.3326926  0.33227757\n",
      " 0.31932462 0.294489   0.27568203 0.3175116  0.30106373 0.29520979\n",
      " 0.3214652  0.29464185 0.32745026 0.30340096 0.29507874 0.24597537\n",
      " 0.28450667 0.25346761 0.17773748 0.22371723 0.14189291 0.18756688\n",
      " 0.17821803 0.21439024 0.21613766 0.27607519 0.26963151 0.23701975\n",
      " 0.28201653 0.26919462 0.2994255  0.30934229 0.28439742 0.29750329\n",
      " 0.27932987 0.31908431 0.30230881 0.299775   0.29890128 0.3556934\n",
      " 0.39245535 0.4212883  0.44841749 0.41300974 0.44474779 0.4367532\n",
      " 0.40964594 0.42117911 0.41744389 0.40955855 0.37122383 0.38882945\n",
      " 0.40621656 0.39621237 0.42434632 0.41676676 0.43769251 0.44265087\n",
      " 0.44051022 0.45136626 0.43236278 0.44645155 0.45448987 0.48122583\n",
      " 0.47770906 0.47434526 0.46698414 0.44203927 0.426902   0.39512021\n",
      " 0.40630395 0.39221511 0.40595445 0.41947535 0.42251151 0.41084729\n",
      " 0.39415911 0.40567048 0.40543017 0.43723375 0.43817306 0.41868896\n",
      " 0.40232848 0.41855791 0.44177716 0.46720252 0.47178959 0.4801992\n",
      " 0.51147857 0.5075905  0.48922042 0.50682598 0.45765709 0.46604484\n",
      " 0.48308251 0.54992248 0.53080975 0.56776828 0.56634849 0.58736156\n",
      " 0.59823946 0.68773067 0.63698914 0.63563487 0.6320963  0.64111752\n",
      " 0.56597712 0.58655338 0.5596645  0.55905289 0.53231686 0.5385859\n",
      " 0.5717874  0.55619145 0.54738867 0.55027191 0.55699963 0.57827481\n",
      " 0.60234598 0.58589804 0.6011227  0.56977787 0.54498591 0.50905395\n",
      " 0.527708   0.54050804 0.54345687 0.54273608 0.5635307  0.54749786\n",
      " 0.57670211 0.56449181 0.55684672 0.56071292 0.6851096  0.6386711\n",
      " 0.63347243 0.64585744 0.70481201 0.69670829 0.63753522 0.61634736\n",
      " 0.59662302 0.5817042  0.53906645 0.54203708 0.52943362 0.57253006\n",
      " 0.54603434 0.51619669 0.51567241 0.55365764 0.56200172 0.5170922\n",
      " 0.52248746 0.54389376 0.56086584 0.56704748 0.5813547  0.64137963\n",
      " 0.58797317 0.62639528 0.59411108 0.65699738 0.65072841 0.66743845\n",
      " 0.66824664 0.69943868 0.67182894 0.67289924 0.6485441  0.64839118\n",
      " 0.63681436 0.55737093 0.54902691 0.55568903 0.55560164 0.55710882\n",
      " 0.55123302 0.59048511 0.52829774 0.54660228 0.55337367 0.57462705\n",
      " 0.61134533 0.61346405 0.51685196 0.53812714 0.56110615 0.5523907\n",
      " 0.54380637 0.53563706 0.53897906 0.54151287 0.5478037 ]\n"
     ]
    }
   ],
   "source": [
    "print(Y_train)"
   ]
  },
  {
   "cell_type": "code",
   "execution_count": 37,
   "id": "894089e5-7a8d-433a-a0db-f1f40dfdbcd0",
   "metadata": {},
   "outputs": [],
   "source": [
    "### lets reshape it for LSTM which is required"
   ]
  },
  {
   "cell_type": "code",
   "execution_count": 38,
   "id": "32e187f6-1725-4eed-a1ba-b4ae962e1f29",
   "metadata": {},
   "outputs": [],
   "source": [
    "X_train = X_train.reshape(X_train.shape[0],X_train.shape[1],1)\n",
    "X_test = X_test.reshape(X_test.shape[0],X_test.shape[1],1)"
   ]
  },
  {
   "cell_type": "code",
   "execution_count": 39,
   "id": "93b0086d-2f47-48d1-ae49-c1f3eeace60f",
   "metadata": {},
   "outputs": [],
   "source": [
    "### craeting the  LSTM Model\n",
    "\n",
    "from tensorflow.keras.models import Sequential\n",
    "from tensorflow.keras.layers import Dense\n",
    "from tensorflow.keras.layers import LSTM\n",
    "\n",
    "model=Sequential()\n",
    "model.add(LSTM(50,return_sequences=True,input_shape=(time_step,1)))#input layer with 50 neurons\n",
    "model.add(LSTM(50,return_sequences=True)) #hidden layers with 50 neurons\n",
    "model.add(LSTM(50))\n",
    "model.add(Dense(1))#output layer\n",
    "model.compile(loss='mean_squared_error',optimizer='adam')\n",
    "\n"
   ]
  },
  {
   "cell_type": "code",
   "execution_count": 40,
   "id": "1063b1b8-b2cd-4ebd-a346-005242713ad8",
   "metadata": {},
   "outputs": [],
   "source": [
    "\n",
    "\n",
    "model = Sequential()\n",
    "model.add(LSTM(50, return_sequences=True, input_shape=(100,1)))\n",
    "model.add(LSTM(50, return_sequences=True, input_shape=(100,1)))\n",
    "model.add(LSTM(50))\n",
    "model.add(Dense(1))\n",
    "model.compile(loss='mean_squared_error', optimizer='adam', metrics='acc')\n",
    "\n"
   ]
  },
  {
   "cell_type": "code",
   "execution_count": 41,
   "id": "166631e2-f48a-4025-ac68-d501efaf7363",
   "metadata": {},
   "outputs": [
    {
     "name": "stdout",
     "output_type": "stream",
     "text": [
      "Model: \"sequential_1\"\n",
      "_________________________________________________________________\n",
      " Layer (type)                Output Shape              Param #   \n",
      "=================================================================\n",
      " lstm_3 (LSTM)               (None, 100, 50)           10400     \n",
      "                                                                 \n",
      " lstm_4 (LSTM)               (None, 100, 50)           20200     \n",
      "                                                                 \n",
      " lstm_5 (LSTM)               (None, 50)                20200     \n",
      "                                                                 \n",
      " dense_1 (Dense)             (None, 1)                 51        \n",
      "                                                                 \n",
      "=================================================================\n",
      "Total params: 50851 (198.64 KB)\n",
      "Trainable params: 50851 (198.64 KB)\n",
      "Non-trainable params: 0 (0.00 Byte)\n",
      "_________________________________________________________________\n"
     ]
    }
   ],
   "source": [
    "model.summary()"
   ]
  },
  {
   "cell_type": "code",
   "execution_count": null,
   "id": "7708a8fc-4060-42de-ae2f-5741717f0cca",
   "metadata": {},
   "outputs": [
    {
     "name": "stdout",
     "output_type": "stream",
     "text": [
      "Epoch 1/100\n",
      "10/10 [==============================] - 12s 440ms/step - loss: 0.0452 - acc: 0.0017 - val_loss: 0.0103 - val_acc: 0.0050\n",
      "Epoch 2/100\n",
      "10/10 [==============================] - 3s 259ms/step - loss: 0.0082 - acc: 0.0017 - val_loss: 0.0275 - val_acc: 0.0050\n",
      "Epoch 3/100\n",
      "10/10 [==============================] - 3s 262ms/step - loss: 0.0053 - acc: 0.0017 - val_loss: 0.0145 - val_acc: 0.0050\n",
      "Epoch 4/100\n",
      "10/10 [==============================] - 3s 281ms/step - loss: 0.0041 - acc: 0.0017 - val_loss: 0.0134 - val_acc: 0.0050\n",
      "Epoch 5/100\n",
      "10/10 [==============================] - 3s 256ms/step - loss: 0.0034 - acc: 0.0017 - val_loss: 0.0083 - val_acc: 0.0050\n",
      "Epoch 6/100\n",
      "10/10 [==============================] - 3s 256ms/step - loss: 0.0031 - acc: 0.0017 - val_loss: 0.0082 - val_acc: 0.0050\n",
      "Epoch 7/100\n",
      "10/10 [==============================] - 3s 270ms/step - loss: 0.0028 - acc: 0.0017 - val_loss: 0.0081 - val_acc: 0.0050\n",
      "Epoch 8/100\n",
      "10/10 [==============================] - 2s 243ms/step - loss: 0.0027 - acc: 0.0017 - val_loss: 0.0087 - val_acc: 0.0050\n",
      "Epoch 9/100\n",
      "10/10 [==============================] - 2s 236ms/step - loss: 0.0027 - acc: 0.0017 - val_loss: 0.0073 - val_acc: 0.0050\n",
      "Epoch 10/100\n",
      "10/10 [==============================] - 2s 230ms/step - loss: 0.0026 - acc: 0.0017 - val_loss: 0.0070 - val_acc: 0.0050\n",
      "Epoch 11/100\n",
      "10/10 [==============================] - 2s 235ms/step - loss: 0.0025 - acc: 0.0017 - val_loss: 0.0081 - val_acc: 0.0050\n",
      "Epoch 12/100\n",
      "10/10 [==============================] - 3s 280ms/step - loss: 0.0026 - acc: 0.0017 - val_loss: 0.0070 - val_acc: 0.0050\n",
      "Epoch 13/100\n",
      "10/10 [==============================] - 2s 242ms/step - loss: 0.0024 - acc: 0.0017 - val_loss: 0.0063 - val_acc: 0.0050\n",
      "Epoch 14/100\n",
      "10/10 [==============================] - 2s 232ms/step - loss: 0.0025 - acc: 0.0017 - val_loss: 0.0059 - val_acc: 0.0050\n",
      "Epoch 15/100\n",
      "10/10 [==============================] - 2s 232ms/step - loss: 0.0025 - acc: 0.0017 - val_loss: 0.0064 - val_acc: 0.0050\n",
      "Epoch 16/100\n",
      "10/10 [==============================] - 2s 235ms/step - loss: 0.0023 - acc: 0.0017 - val_loss: 0.0057 - val_acc: 0.0050\n",
      "Epoch 17/100\n",
      "10/10 [==============================] - 2s 236ms/step - loss: 0.0022 - acc: 0.0017 - val_loss: 0.0055 - val_acc: 0.0050\n",
      "Epoch 18/100\n",
      "10/10 [==============================] - 2s 237ms/step - loss: 0.0022 - acc: 0.0017 - val_loss: 0.0055 - val_acc: 0.0050\n",
      "Epoch 19/100\n",
      "10/10 [==============================] - 2s 231ms/step - loss: 0.0022 - acc: 0.0017 - val_loss: 0.0056 - val_acc: 0.0050\n",
      "Epoch 20/100\n",
      "10/10 [==============================] - 2s 234ms/step - loss: 0.0022 - acc: 0.0017 - val_loss: 0.0050 - val_acc: 0.0050\n",
      "Epoch 21/100\n",
      "10/10 [==============================] - 2s 238ms/step - loss: 0.0023 - acc: 0.0017 - val_loss: 0.0052 - val_acc: 0.0050\n",
      "Epoch 22/100\n",
      "10/10 [==============================] - 2s 234ms/step - loss: 0.0023 - acc: 0.0017 - val_loss: 0.0058 - val_acc: 0.0050\n",
      "Epoch 23/100\n",
      "10/10 [==============================] - 2s 231ms/step - loss: 0.0021 - acc: 0.0017 - val_loss: 0.0059 - val_acc: 0.0050\n",
      "Epoch 24/100\n",
      "10/10 [==============================] - 2s 235ms/step - loss: 0.0020 - acc: 0.0017 - val_loss: 0.0044 - val_acc: 0.0050\n",
      "Epoch 25/100\n",
      "10/10 [==============================] - 2s 234ms/step - loss: 0.0020 - acc: 0.0017 - val_loss: 0.0051 - val_acc: 0.0050\n",
      "Epoch 26/100\n",
      "10/10 [==============================] - 2s 233ms/step - loss: 0.0021 - acc: 0.0017 - val_loss: 0.0053 - val_acc: 0.0050\n",
      "Epoch 27/100\n",
      "10/10 [==============================] - 2s 233ms/step - loss: 0.0022 - acc: 0.0017 - val_loss: 0.0064 - val_acc: 0.0050\n",
      "Epoch 28/100\n",
      "10/10 [==============================] - 2s 224ms/step - loss: 0.0021 - acc: 0.0017 - val_loss: 0.0048 - val_acc: 0.0050\n",
      "Epoch 29/100\n",
      "10/10 [==============================] - 2s 229ms/step - loss: 0.0019 - acc: 0.0017 - val_loss: 0.0040 - val_acc: 0.0050\n",
      "Epoch 30/100\n",
      "10/10 [==============================] - 2s 236ms/step - loss: 0.0018 - acc: 0.0017 - val_loss: 0.0040 - val_acc: 0.0050\n",
      "Epoch 31/100\n",
      "10/10 [==============================] - 2s 229ms/step - loss: 0.0018 - acc: 0.0017 - val_loss: 0.0038 - val_acc: 0.0050\n",
      "Epoch 32/100\n",
      "10/10 [==============================] - 2s 229ms/step - loss: 0.0018 - acc: 0.0017 - val_loss: 0.0037 - val_acc: 0.0050\n",
      "Epoch 33/100\n",
      "10/10 [==============================] - 2s 232ms/step - loss: 0.0017 - acc: 0.0017 - val_loss: 0.0038 - val_acc: 0.0050\n",
      "Epoch 34/100\n",
      "10/10 [==============================] - 2s 232ms/step - loss: 0.0017 - acc: 0.0017 - val_loss: 0.0040 - val_acc: 0.0050\n",
      "Epoch 35/100\n",
      "10/10 [==============================] - 2s 237ms/step - loss: 0.0017 - acc: 0.0017 - val_loss: 0.0040 - val_acc: 0.0050\n",
      "Epoch 36/100\n",
      "10/10 [==============================] - 2s 230ms/step - loss: 0.0018 - acc: 0.0017 - val_loss: 0.0056 - val_acc: 0.0050\n",
      "Epoch 37/100\n",
      "10/10 [==============================] - 2s 230ms/step - loss: 0.0017 - acc: 0.0017 - val_loss: 0.0049 - val_acc: 0.0050\n",
      "Epoch 38/100\n",
      "10/10 [==============================] - 2s 229ms/step - loss: 0.0017 - acc: 0.0017 - val_loss: 0.0036 - val_acc: 0.0050\n",
      "Epoch 39/100\n",
      "10/10 [==============================] - 2s 234ms/step - loss: 0.0015 - acc: 0.0017 - val_loss: 0.0036 - val_acc: 0.0050\n",
      "Epoch 40/100\n",
      "10/10 [==============================] - 2s 230ms/step - loss: 0.0015 - acc: 0.0017 - val_loss: 0.0038 - val_acc: 0.0050\n",
      "Epoch 41/100\n",
      "10/10 [==============================] - 2s 229ms/step - loss: 0.0015 - acc: 0.0017 - val_loss: 0.0037 - val_acc: 0.0050\n",
      "Epoch 42/100\n",
      "10/10 [==============================] - 2s 230ms/step - loss: 0.0015 - acc: 0.0017 - val_loss: 0.0037 - val_acc: 0.0050\n",
      "Epoch 43/100\n",
      "10/10 [==============================] - 2s 227ms/step - loss: 0.0015 - acc: 0.0017 - val_loss: 0.0037 - val_acc: 0.0050\n",
      "Epoch 44/100\n",
      "10/10 [==============================] - 2s 233ms/step - loss: 0.0014 - acc: 0.0017 - val_loss: 0.0038 - val_acc: 0.0050\n",
      "Epoch 45/100\n",
      "10/10 [==============================] - 2s 226ms/step - loss: 0.0015 - acc: 0.0017 - val_loss: 0.0036 - val_acc: 0.0050\n",
      "Epoch 46/100\n",
      "10/10 [==============================] - 2s 233ms/step - loss: 0.0016 - acc: 0.0017 - val_loss: 0.0056 - val_acc: 0.0050\n",
      "Epoch 47/100\n",
      "10/10 [==============================] - 2s 240ms/step - loss: 0.0014 - acc: 0.0017 - val_loss: 0.0044 - val_acc: 0.0050\n",
      "Epoch 48/100\n",
      "10/10 [==============================] - 2s 230ms/step - loss: 0.0014 - acc: 0.0017 - val_loss: 0.0035 - val_acc: 0.0050\n",
      "Epoch 49/100\n",
      "10/10 [==============================] - 2s 229ms/step - loss: 0.0014 - acc: 0.0017 - val_loss: 0.0033 - val_acc: 0.0050\n",
      "Epoch 50/100\n",
      "10/10 [==============================] - 2s 234ms/step - loss: 0.0013 - acc: 0.0017 - val_loss: 0.0034 - val_acc: 0.0050\n",
      "Epoch 51/100\n",
      "10/10 [==============================] - 2s 241ms/step - loss: 0.0013 - acc: 0.0017 - val_loss: 0.0035 - val_acc: 0.0050\n",
      "Epoch 52/100\n",
      "10/10 [==============================] - 2s 233ms/step - loss: 0.0012 - acc: 0.0017 - val_loss: 0.0034 - val_acc: 0.0050\n",
      "Epoch 53/100\n",
      "10/10 [==============================] - 2s 231ms/step - loss: 0.0013 - acc: 0.0017 - val_loss: 0.0049 - val_acc: 0.0050\n",
      "Epoch 54/100\n",
      "10/10 [==============================] - 2s 229ms/step - loss: 0.0013 - acc: 0.0017 - val_loss: 0.0031 - val_acc: 0.0050\n",
      "Epoch 55/100\n",
      "10/10 [==============================] - 2s 247ms/step - loss: 0.0012 - acc: 0.0017 - val_loss: 0.0029 - val_acc: 0.0050\n",
      "Epoch 56/100\n",
      "10/10 [==============================] - 2s 249ms/step - loss: 0.0012 - acc: 0.0017 - val_loss: 0.0028 - val_acc: 0.0050\n",
      "Epoch 57/100\n",
      "10/10 [==============================] - 2s 236ms/step - loss: 0.0012 - acc: 0.0017 - val_loss: 0.0036 - val_acc: 0.0050\n",
      "Epoch 58/100\n",
      "10/10 [==============================] - 2s 231ms/step - loss: 0.0011 - acc: 0.0017 - val_loss: 0.0026 - val_acc: 0.0050\n",
      "Epoch 59/100\n",
      "10/10 [==============================] - 2s 228ms/step - loss: 0.0012 - acc: 0.0017 - val_loss: 0.0035 - val_acc: 0.0050\n",
      "Epoch 60/100\n",
      "10/10 [==============================] - 2s 237ms/step - loss: 0.0011 - acc: 0.0017 - val_loss: 0.0028 - val_acc: 0.0050\n",
      "Epoch 61/100\n",
      "10/10 [==============================] - 2s 245ms/step - loss: 0.0011 - acc: 0.0017 - val_loss: 0.0031 - val_acc: 0.0050\n",
      "Epoch 62/100\n",
      "10/10 [==============================] - 2s 231ms/step - loss: 0.0011 - acc: 0.0017 - val_loss: 0.0024 - val_acc: 0.0050\n",
      "Epoch 63/100\n",
      "10/10 [==============================] - 2s 226ms/step - loss: 0.0010 - acc: 0.0017 - val_loss: 0.0030 - val_acc: 0.0050\n",
      "Epoch 64/100\n",
      "10/10 [==============================] - 2s 233ms/step - loss: 0.0010 - acc: 0.0017 - val_loss: 0.0021 - val_acc: 0.0050\n",
      "Epoch 65/100\n",
      "10/10 [==============================] - 2s 229ms/step - loss: 0.0011 - acc: 0.0017 - val_loss: 0.0025 - val_acc: 0.0050\n",
      "Epoch 66/100\n",
      "10/10 [==============================] - 2s 229ms/step - loss: 0.0010 - acc: 0.0017 - val_loss: 0.0028 - val_acc: 0.0050\n",
      "Epoch 67/100\n",
      "10/10 [==============================] - 2s 228ms/step - loss: 9.2580e-04 - acc: 0.0017 - val_loss: 0.0044 - val_acc: 0.0050\n",
      "Epoch 68/100\n",
      "10/10 [==============================] - 2s 234ms/step - loss: 9.6107e-04 - acc: 0.0017 - val_loss: 0.0020 - val_acc: 0.0050\n",
      "Epoch 69/100\n",
      "10/10 [==============================] - 2s 233ms/step - loss: 9.1642e-04 - acc: 0.0017 - val_loss: 0.0031 - val_acc: 0.0050\n",
      "Epoch 70/100\n",
      "10/10 [==============================] - 2s 228ms/step - loss: 8.9729e-04 - acc: 0.0017 - val_loss: 0.0018 - val_acc: 0.0050\n",
      "Epoch 71/100\n",
      "10/10 [==============================] - 2s 231ms/step - loss: 9.0783e-04 - acc: 0.0017 - val_loss: 0.0027 - val_acc: 0.0050\n",
      "Epoch 72/100\n",
      "10/10 [==============================] - 2s 228ms/step - loss: 8.4610e-04 - acc: 0.0017 - val_loss: 0.0018 - val_acc: 0.0050\n",
      "Epoch 73/100\n",
      "10/10 [==============================] - 2s 235ms/step - loss: 8.0339e-04 - acc: 0.0017 - val_loss: 0.0018 - val_acc: 0.0050\n",
      "Epoch 74/100\n",
      "10/10 [==============================] - 2s 228ms/step - loss: 8.9102e-04 - acc: 0.0017 - val_loss: 0.0021 - val_acc: 0.0050\n",
      "Epoch 75/100\n",
      "10/10 [==============================] - 2s 227ms/step - loss: 0.0011 - acc: 0.0017 - val_loss: 0.0039 - val_acc: 0.0050\n",
      "Epoch 76/100\n",
      "10/10 [==============================] - 2s 229ms/step - loss: 9.5560e-04 - acc: 0.0017 - val_loss: 0.0017 - val_acc: 0.0050\n",
      "Epoch 77/100\n",
      "10/10 [==============================] - 2s 231ms/step - loss: 8.2592e-04 - acc: 0.0017 - val_loss: 0.0030 - val_acc: 0.0050\n",
      "Epoch 78/100\n",
      "10/10 [==============================] - 2s 241ms/step - loss: 8.1077e-04 - acc: 0.0017 - val_loss: 0.0017 - val_acc: 0.0050\n",
      "Epoch 79/100\n",
      "10/10 [==============================] - 2s 227ms/step - loss: 7.4468e-04 - acc: 0.0017 - val_loss: 0.0016 - val_acc: 0.0050\n",
      "Epoch 80/100\n",
      "10/10 [==============================] - 2s 229ms/step - loss: 7.4766e-04 - acc: 0.0017 - val_loss: 0.0014 - val_acc: 0.0050\n",
      "Epoch 81/100\n",
      "10/10 [==============================] - 2s 230ms/step - loss: 7.2133e-04 - acc: 0.0017 - val_loss: 0.0019 - val_acc: 0.0050\n",
      "Epoch 82/100\n",
      "10/10 [==============================] - 2s 237ms/step - loss: 7.5505e-04 - acc: 0.0017 - val_loss: 0.0015 - val_acc: 0.0050\n",
      "Epoch 83/100\n",
      "10/10 [==============================] - 2s 231ms/step - loss: 7.1341e-04 - acc: 0.0017 - val_loss: 0.0015 - val_acc: 0.0050\n",
      "Epoch 84/100\n",
      "10/10 [==============================] - 2s 227ms/step - loss: 7.6192e-04 - acc: 0.0017 - val_loss: 0.0040 - val_acc: 0.0050\n",
      "Epoch 85/100\n",
      "10/10 [==============================] - 2s 232ms/step - loss: 0.0010 - acc: 0.0017 - val_loss: 0.0019 - val_acc: 0.0050\n",
      "Epoch 86/100\n",
      "10/10 [==============================] - 3s 261ms/step - loss: 8.5636e-04 - acc: 0.0017 - val_loss: 0.0028 - val_acc: 0.0050\n",
      "Epoch 87/100\n",
      "10/10 [==============================] - 3s 274ms/step - loss: 7.7378e-04 - acc: 0.0017 - val_loss: 0.0018 - val_acc: 0.0050\n",
      "Epoch 88/100\n",
      "10/10 [==============================] - 3s 252ms/step - loss: 8.5619e-04 - acc: 0.0017 - val_loss: 0.0028 - val_acc: 0.0050\n",
      "Epoch 89/100\n",
      "10/10 [==============================] - 2s 238ms/step - loss: 8.1871e-04 - acc: 0.0017 - val_loss: 0.0017 - val_acc: 0.0050\n",
      "Epoch 90/100\n",
      "10/10 [==============================] - 2s 232ms/step - loss: 7.7531e-04 - acc: 0.0017 - val_loss: 0.0027 - val_acc: 0.0050\n",
      "Epoch 91/100\n",
      "10/10 [==============================] - 2s 238ms/step - loss: 7.0669e-04 - acc: 0.0017 - val_loss: 0.0018 - val_acc: 0.0050\n",
      "Epoch 92/100\n",
      "10/10 [==============================] - 2s 228ms/step - loss: 6.9578e-04 - acc: 0.0017 - val_loss: 0.0017 - val_acc: 0.0050\n",
      "Epoch 93/100\n",
      "10/10 [==============================] - 2s 232ms/step - loss: 6.7835e-04 - acc: 0.0017 - val_loss: 0.0019 - val_acc: 0.0050\n",
      "Epoch 94/100\n",
      "10/10 [==============================] - 2s 232ms/step - loss: 6.6902e-04 - acc: 0.0017 - val_loss: 0.0024 - val_acc: 0.0050\n",
      "Epoch 95/100\n",
      "10/10 [==============================] - 2s 239ms/step - loss: 6.7976e-04 - acc: 0.0017 - val_loss: 0.0017 - val_acc: 0.0050\n",
      "Epoch 96/100\n",
      "10/10 [==============================] - 2s 234ms/step - loss: 6.9903e-04 - acc: 0.0017 - val_loss: 0.0030 - val_acc: 0.0050\n",
      "Epoch 97/100\n",
      "10/10 [==============================] - 2s 231ms/step - loss: 6.3792e-04 - acc: 0.0017 - val_loss: 0.0015 - val_acc: 0.0050\n",
      "Epoch 98/100\n",
      " 5/10 [==============>...............] - ETA: 1s - loss: 5.6387e-04 - acc: 0.0000e+00"
     ]
    }
   ],
   "source": [
    "model.fit(X_train, Y_train, validation_data = (X_test, Y_test), epochs =100, batch_size = 64, verbose = 1);"
   ]
  },
  {
   "cell_type": "code",
   "execution_count": null,
   "id": "bd390ba1-a387-41ec-bab5-a9458fb34423",
   "metadata": {},
   "outputs": [],
   "source": [
    "loss=model.history.history['loss']\n",
    "plt.plot(loss)\n",
    "plt.xlabel(\"No.of iteration...\")\n",
    "plt.ylabel(\"loss value...\")\n",
    "plt.title(\"variation of loss value with No. of iteration\",color=\"Red\",fontsize=16,fontweight=\"bold\");\n"
   ]
  },
  {
   "cell_type": "code",
   "execution_count": null,
   "id": "8b5a6769-cb5a-4678-952a-0ecc975c3f99",
   "metadata": {},
   "outputs": [],
   "source": [
    "import tensorflow as tf "
   ]
  },
  {
   "cell_type": "code",
   "execution_count": null,
   "id": "efe7ef59-37fb-4ef1-a0d0-943f7130643d",
   "metadata": {},
   "outputs": [],
   "source": [
    "tf.__version__"
   ]
  },
  {
   "cell_type": "code",
   "execution_count": null,
   "id": "19951f7e-8920-42f8-be6a-1303064db908",
   "metadata": {},
   "outputs": [],
   "source": [
    "### lest do the prediction and check performance\n",
    "\n",
    "train_predict = model.predict(X_train)\n",
    "test_predict = model.predict(X_test)"
   ]
  },
  {
   "cell_type": "code",
   "execution_count": null,
   "id": "e74fc2e6-af55-4fe9-a9ba-5407939f2b87",
   "metadata": {},
   "outputs": [],
   "source": [
    "train_predict=scaler.inverse_transform(train_predict)\n",
    "test_predict=scaler.inverse_transform(test_predict)"
   ]
  },
  {
   "cell_type": "code",
   "execution_count": null,
   "id": "29c8209c-04f0-4da6-ac13-48f10b838a91",
   "metadata": {},
   "outputs": [],
   "source": [
    "### calculate RMSE(root mean squr error) performance metrics\n",
    "import math\n",
    "from sklearn.metrics import mean_squared_error\n",
    "math.sqrt(mean_squared_error(Y_train,train_predict))"
   ]
  },
  {
   "cell_type": "code",
   "execution_count": null,
   "id": "76898e14-d4f8-4954-9ac6-6c40c534d1e0",
   "metadata": {},
   "outputs": [],
   "source": [
    "math.sqrt(mean_squared_error(Y_test,test_predict))"
   ]
  },
  {
   "cell_type": "code",
   "execution_count": null,
   "id": "82bca148-b2b2-4348-8634-1a63c67fe50f",
   "metadata": {},
   "outputs": [],
   "source": [
    "look_back = 100\n",
    "\n",
    "# Create empty arrays for the train, test, and predicted data\n",
    "trainPredictPlot = np.empty_like(new_df)\n",
    "trainPredictPlot[:, :] = np.nan\n",
    "testPredictPlot = np.empty_like(new_df)\n",
    "testPredictPlot[:, :] = np.nan\n",
    "\n",
    "# Fill in the arrays with the train, test, and predicted data\n",
    "trainPredictPlot[look_back:len(train_predict) + look_back, :] = train_predict\n",
    "testPredictPlot[len(train_predict) + (look_back * 2) + 1:len(new_df) - 1, :] = test_predict\n",
    "\n",
    "# Plot the data\n",
    "plt.figure(figsize=(10, 6))\n",
    "\n",
    "# Plot the train data\n",
    "plt.plot(scaler.inverse_transform(new_df[:len(train_predict) + look_back]), color=\"blue\", label=\"Train\")\n",
    "\n",
    "# Plot the test data\n",
    "plt.plot(scaler.inverse_transform(new_df[len(train_predict) + (look_back * 2) + 1:]), color=\"red\", label=\"Test\")\n",
    "\n",
    "# Plot the predicted data\n",
    "plt.plot(scaler.inverse_transform(new_df), color=\"orange\", label=\"Predicted\")\n",
    "\n",
    "# Add labels to the axes\n",
    "plt.xlabel(\"Time\")\n",
    "plt.ylabel(\"Value\")\n",
    "\n",
    "# Add a title to the graph\n",
    "plt.title(\"Train, Test, and Predicted Data\")\n",
    "\n",
    "# Change the range of the axes\n",
    "plt.xlim(0, len(new_df))\n",
    "plt.ylim(np.min(scaler.inverse_transform(new_df)), np.max(scaler.inverse_transform(new_df)))\n",
    "\n",
    "# Add grid lines\n",
    "plt.grid(True)\n",
    "\n",
    "# Add a legend\n",
    "plt.legend()\n",
    "\n",
    "# Show the plot\n",
    "plt.show()"
   ]
  },
  {
   "cell_type": "code",
   "execution_count": null,
   "id": "7ae7b16b-54a8-4119-a2ac-1feeccd6ded7",
   "metadata": {},
   "outputs": [],
   "source": []
  }
 ],
 "metadata": {
  "kernelspec": {
   "display_name": "Python 3 (ipykernel)",
   "language": "python",
   "name": "python3"
  },
  "language_info": {
   "codemirror_mode": {
    "name": "ipython",
    "version": 3
   },
   "file_extension": ".py",
   "mimetype": "text/x-python",
   "name": "python",
   "nbconvert_exporter": "python",
   "pygments_lexer": "ipython3",
   "version": "3.11.4"
  }
 },
 "nbformat": 4,
 "nbformat_minor": 5
}
